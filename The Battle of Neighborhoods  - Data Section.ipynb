{
    "cells": [
        {
            "cell_type": "markdown",
            "metadata": {
                "collapsed": true
            },
            "source": "# Capstone Project - The Battle of Neighborhoods (Part 1)\n"
        },
        {
            "cell_type": "markdown",
            "metadata": {},
            "source": "## Data Section: "
        },
        {
            "cell_type": "markdown",
            "metadata": {},
            "source": "For this project we will be using the following data:\n* Canada data with the different Boroughs, latitude and longitude.\n    * Data source with Portuguese boroughs and geospatial information: https://simplemaps.com/data/pt-cities\n* Venues information in each neighborhood of Porto:\n    * Data source: Foursquare API"
        }
    ],
    "metadata": {
        "kernelspec": {
            "display_name": "Python 3.6",
            "language": "python",
            "name": "python3"
        },
        "language_info": {
            "codemirror_mode": {
                "name": "ipython",
                "version": 3
            },
            "file_extension": ".py",
            "mimetype": "text/x-python",
            "name": "python",
            "nbconvert_exporter": "python",
            "pygments_lexer": "ipython3",
            "version": "3.6.9"
        }
    },
    "nbformat": 4,
    "nbformat_minor": 1
}