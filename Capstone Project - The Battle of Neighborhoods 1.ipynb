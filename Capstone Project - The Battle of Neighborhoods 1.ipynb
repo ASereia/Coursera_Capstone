{
    "cells": [
        {
            "cell_type": "markdown",
            "metadata": {
                "collapsed": true
            },
            "source": "# Capstone Project - The Battle of Neighborhoods (Week 1)"
        },
        {
            "cell_type": "markdown",
            "metadata": {},
            "source": "## Introduction:"
        },
        {
            "cell_type": "markdown",
            "metadata": {},
            "source": "The main goal of this project is to gather information in order to recommend a newly contractor the best area in the city of Vancouver to open an Hotel mainly directed to leisure turists. \n\nVancouver is a major city in western Canada, located in the Lower Mainland region of British Columbia. As the most populous city in the province. Vancouver is consistently named as one of the top five worldwide cities for livability and quality of life and the Economist Intelligence Unit acknowledged it as the first city ranked among the top ten of the world's most well-living cities for ten consecutive years\n\nThis city has also hosted many international conferences/events and it became the permanent home to TED conferences. Vancouver is one of the most ethnically and linguistically diverse cities in Canada: 52% of its residents are not native English speakers, 48.9% are native speakers of neither English nor French, and 50.6% of residents belong to visible minority groups. \n\nFor these reasons, it would be important to select the most strategic area to place a new hotel."
        },
        {
            "cell_type": "markdown",
            "metadata": {},
            "source": "## Problem:"
        },
        {
            "cell_type": "markdown",
            "metadata": {},
            "source": "Finding the best are to place a new hotel in town by answering the following:\n1. Areas with the most hotels\n2. Areas with high rating hotels\n3. Areas with most restaurants \n4. Areas with the most musueums/atractions to visit"
        }
    ],
    "metadata": {
        "kernelspec": {
            "display_name": "Python 3.6",
            "language": "python",
            "name": "python3"
        },
        "language_info": {
            "codemirror_mode": {
                "name": "ipython",
                "version": 3
            },
            "file_extension": ".py",
            "mimetype": "text/x-python",
            "name": "python",
            "nbconvert_exporter": "python",
            "pygments_lexer": "ipython3",
            "version": "3.6.9"
        }
    },
    "nbformat": 4,
    "nbformat_minor": 1
}