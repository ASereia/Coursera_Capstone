{
    "cells": [
        {
            "cell_type": "markdown",
            "metadata": {
                "collapsed": true
            },
            "source": "# Capstone Project - The Battle of Neighborhoods (Part 1)"
        },
        {
            "cell_type": "markdown",
            "metadata": {},
            "source": "## Introduction:"
        },
        {
            "cell_type": "raw",
            "metadata": {},
            "source": "The main goal of this project is to gather information in order to recommend a newly contractor the best area in the city of Porto to open an hotel.\n\nPorto or Oporto, is the second-largest city in Portugal, one of the Iberian Peninsula's major urban areas. Oporto city has a population of 237,559 and a metropolitan area with 2.4 million people (2019) in an area of 2,395 km2 (925 sq mi), making it the second-largest urban area in Portugal. It is recognized as a gamma-level global city by the Globalization and World Cities (GaWC) Study Group, the only Portuguese city besides Lisbon to be recognised as a global city.\n\nLocated along the Douro River estuary in northern Portugal, Oporto is one of the oldest European centres, and its core was proclaimed a World Heritage Site by UNESCO in 1996, as \"Historic Centre of Oporto, Luiz I Bridge and Monastery of Serra do Pilar\". The historic area is also a National Monument of Portugal. The western part of its urban area extends to the coastline of the Atlantic Ocean. Its settlement dates back many centuries, when it was an outpost of the Roman Empire. Its combined Celtic-Latin name, Portus Cale, has been referred to as the origin of the name Portugal, based on transliteration and oral evolution from Latin. In Portuguese, the name of the city includes a definite article: o Porto (\"the port\"), which is where its English name \"Oporto\" comes from.\n\nPort wine, one of Portugal's most famous exports, is named after Oporto, since the metropolitan area, and in particular the cellars of Vila Nova de Gaia, were responsible for the packaging, transport, and export of fortified wine. In 2014 and 2017, Oporto was elected The Best European Destination by the Best European Destinations Agency. Oportois on the Portuguese Way path of the Camino de Santiago. Oporto is also the home of one of the world's most successful football clubs, FC Porto.\n"
        },
        {
            "cell_type": "markdown",
            "metadata": {},
            "source": "## Problem:"
        },
        {
            "cell_type": "markdown",
            "metadata": {},
            "source": "Finding the best are to place a new hotel in town by answering the following:\n1. Areas with the most hotels\n2. Areas with high rating hotels\n3. Areas with most restaurants \n4. Areas with the most musueums/atractions to visit"
        }
    ],
    "metadata": {
        "kernelspec": {
            "display_name": "Python 3.6",
            "language": "python",
            "name": "python3"
        },
        "language_info": {
            "codemirror_mode": {
                "name": "ipython",
                "version": 3
            },
            "file_extension": ".py",
            "mimetype": "text/x-python",
            "name": "python",
            "nbconvert_exporter": "python",
            "pygments_lexer": "ipython3",
            "version": "3.6.9"
        }
    },
    "nbformat": 4,
    "nbformat_minor": 1
}